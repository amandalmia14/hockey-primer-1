{
 "cells": [
  {
   "cell_type": "code",
   "execution_count": 1,
   "id": "833ad318",
   "metadata": {},
   "outputs": [],
   "source": [
    "import ipywidgets as widgets\n",
    "import json\n",
    "import os\n",
    "import pandas as pd\n",
    "\n",
    "import numpy as np\n",
    "from matplotlib import pyplot as plt"
   ]
  },
  {
   "cell_type": "code",
   "execution_count": 2,
   "id": "e0db7c10",
   "metadata": {},
   "outputs": [],
   "source": [
    "def plot_image(corr,desc):\n",
    "    im = plt.imread('../figures/nhl_rink.png')\n",
    "    fig, ax = plt.subplots()\n",
    "    # y=0.8\n",
    "    plt.title(desc+\"\\n\")\n",
    "    plt.title(\"home\",loc='left')\n",
    "    plt.title(\"away\",loc='right')\n",
    "    ax.imshow(im, extent=[-100,100,-42.5,42.5])\n",
    "    # plotting the point\n",
    "    ax.plot(corr['x'],corr['y'], marker='o',markersize=10, markeredgecolor=\"red\", markerfacecolor=\"blue\")"
   ]
  },
  {
   "cell_type": "markdown",
   "id": "c11a8abb",
   "metadata": {},
   "source": [
    " ## Interactive Debugging Tool for the season 20172018"
   ]
  },
  {
   "cell_type": "code",
   "execution_count": 3,
   "id": "77c8d4fc",
   "metadata": {},
   "outputs": [],
   "source": [
    "stype = ['regular_season','playoffs']\n",
    "all_data = {}\n",
    "for i in stype:\n",
    "    f = open('../data/2017/2017_'+i+'.json')\n",
    "    season = json.load(f)\n",
    "    all_data[i] = season"
   ]
  },
  {
   "cell_type": "code",
   "execution_count": 4,
   "id": "9a2d3b89",
   "metadata": {
    "scrolled": false
   },
   "outputs": [
    {
     "data": {
      "application/vnd.jupyter.widget-view+json": {
       "model_id": "b635f5de61fb41d981bcddbc0c19b17c",
       "version_major": 2,
       "version_minor": 0
      },
      "text/plain": [
       "interactive(children=(Dropdown(description='Game Type:', options=('regular_season', 'playoffs'), value='regula…"
      ]
     },
     "metadata": {},
     "output_type": "display_data"
    }
   ],
   "source": [
    "# Visualizing the 2017 regular and playoff data\n",
    "\n",
    "@widgets.interact(\n",
    "    gtype=widgets.Dropdown(options=['regular_season','playoffs'],value='regular_season',description=\"Game Type:\"\n",
    "))\n",
    "def season_vis(gtype):\n",
    "    season = all_data[gtype]\n",
    "    ids = list(season.keys())\n",
    "\n",
    "    @widgets.interact(\n",
    "        idx=widgets.IntSlider(min=0, max=len(ids)-1, step=1, value=len(ids)//2,description=\"Game ID:\")\n",
    "    )\n",
    "    def game_vis(idx):\n",
    "\n",
    "        game = season[ids[idx]]\n",
    "        event_arr = game['liveData']['plays']['allPlays']\n",
    "        periods = game['liveData']['linescore']['periods']\n",
    "        home_team = game['liveData']['linescore']['teams']['home']\n",
    "        add = game['liveData']['linescore']['shootoutInfo']\n",
    "        h = {i:j for i,j in home_team.items() if i in ['team','goals','shotsOnGoal']}\n",
    "        away_team = game['liveData']['linescore']['teams']['away']\n",
    "        a = {i:j for i,j in away_team.items() if i in ['team','goals','shotsOnGoal']}\n",
    "        h['team'] = h['team']['abbreviation']\n",
    "        a['team'] = a['team']['abbreviation']\n",
    "        h.update(add['home'])\n",
    "        a.update(add['away'])\n",
    "        \n",
    "        # game metadata\n",
    "        print(\"NHL Game ID: \"+str(game['gameData']['game']['pk'])+\n",
    "                                 \" ; \"+str(h['team'])+\"(Home) vs \"+str(a['team'])+\"(Away)\")\n",
    "        print(\"Start date-time: \"+str(game['gameData']['datetime']['dateTime']+'\\n'))\n",
    "        \n",
    "        print(\"Last period details: \"+game['liveData']['linescore']['currentPeriodOrdinal'])\n",
    "        \n",
    "        summary = pd.DataFrame({'home':h,'away':a})\n",
    "        summary.rename(index= {'scores':'SO scores','attempts':\"SO attempts\"},inplace=True)\n",
    "        print(summary)\n",
    "        \n",
    "        @widgets.interact(\n",
    "            x=widgets.IntSlider(\n",
    "                min=0, max=len(event_arr)-1, step=1, value=len(event_arr)//2,description=\"Event ID:\")\n",
    "        )\n",
    "        def event_vis(x):\n",
    "            event = event_arr[x]\n",
    "            period = event['about']['period']\n",
    "\n",
    "            def plot_image(corr,desc):\n",
    "                im = plt.imread('../figures/nhl_rink.png')\n",
    "                fig, ax = plt.subplots()\n",
    "\n",
    "                fig.suptitle(desc,y=0.85)#(desc+\"\\n\")\n",
    "                plt.title(\"Period:\"+str(period)+'  '+\"Time:\"+str(event['about'][\"periodTime\"])+'\\n')\n",
    "                #putting team names on the goalpost sides\n",
    "                loc = lambda x: periods[period - 1][x].get('rinkSide')\n",
    "                plt.title(home_team['team']['abbreviation'],loc=loc('home'))\n",
    "                plt.title(away_team['team']['abbreviation'],loc=loc('away'))\n",
    "                ax.imshow(im, extent=[-100,100,-42.5,42.5])\n",
    "                plt.xlabel('feet')\n",
    "                plt.ylabel('feet')\n",
    "                # plotting the point\n",
    "                ax.plot(corr['x'],corr['y'], marker='o',markersize=10, markeredgecolor=\"red\", markerfacecolor=\"yellow\")\n",
    "\n",
    "            if event.get('coordinates') != {}:\n",
    "                plot_image(event.get('coordinates'),event['result']['description'])\n",
    "                plt.show()\n",
    "            print(json.dumps(event,indent=4))"
   ]
  },
  {
   "cell_type": "code",
   "execution_count": null,
   "id": "2335177d",
   "metadata": {},
   "outputs": [],
   "source": []
  }
 ],
 "metadata": {
  "kernelspec": {
   "display_name": "Python 3 (ipykernel)",
   "language": "python",
   "name": "python3"
  },
  "language_info": {
   "codemirror_mode": {
    "name": "ipython",
    "version": 3
   },
   "file_extension": ".py",
   "mimetype": "text/x-python",
   "name": "python",
   "nbconvert_exporter": "python",
   "pygments_lexer": "ipython3",
   "version": "3.8.5"
  }
 },
 "nbformat": 4,
 "nbformat_minor": 5
}
