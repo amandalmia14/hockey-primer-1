{
 "cells": [
  {
   "cell_type": "code",
   "execution_count": 1,
   "id": "052cedaf",
   "metadata": {},
   "outputs": [],
   "source": [
    "import requests\n",
    "import os\n",
    "from tqdm import tqdm\n",
    "import pandas as pd\n"
   ]
  },
  {
   "cell_type": "code",
   "execution_count": 2,
   "id": "6c5d2fe8",
   "metadata": {},
   "outputs": [],
   "source": [
    "seasons_year_matches_map = {2016 : 1271, \n",
    "                            2017 : 1230, \n",
    "                            2018 : 1230, \n",
    "                            2019 : 1230, \n",
    "                            2020 : 1230}\n",
    "\n",
    "seasons_type = {\"regular_season\" : \"02\", \n",
    "                \"playoffs\": \"03\"}\n",
    "\n",
    "# For playoff games, the 2nd digit of the specific number gives the round of the playoffs, \n",
    "# the 3rd digit specifies the matchup, and the 4th digit specifies the game (out of 7)."
   ]
  },
  {
   "cell_type": "code",
   "execution_count": 3,
   "id": "88277a4b",
   "metadata": {},
   "outputs": [],
   "source": [
    "import os\n",
    "from os.path import exists\n",
    "\n",
    "import pandas as pd\n",
    "import requests\n",
    "from tqdm import tqdm\n",
    "\n",
    "from constant import game_type_map, seasons_year_matches_map\n",
    "\n",
    "\n",
    "def get_url(game_id: str):\n",
    "    \"\"\"\n",
    "    This funtions formats the url for a given game_id\n",
    "    @param game_id: input game id\n",
    "    @return: API in order to get the metadata for the given game id\n",
    "    \"\"\"\n",
    "    return \"https://statsapi.web.nhl.com/api/v1/game/{}/feed/live/\".format(game_id)\n",
    "\n",
    "\n",
    "def get_data_by_gameid(game_id: str):\n",
    "    \"\"\"\n",
    "    This function takes an input formatted game id and returns the data of that partical game\n",
    "    @param game_id:Game id in the form of \"2017020007\"\n",
    "    @return: Metadata for that particular game id\n",
    "    \"\"\"\n",
    "    data = requests.get(get_url(game_id=game_id))\n",
    "    return data.json()\n",
    "\n",
    "\n",
    "def get_data_by_season(year: int, game_type: str, save_path: str):\n",
    "    \"\"\"\n",
    "    This function fetches all the metadata for a given game type occurred in the given season\n",
    "    @param year: Year for which we need metadata for\n",
    "    @param game_type: type of game of that season, (regular or playoffs)\n",
    "    @param save_path: file where the csv will be saved\n",
    "    @return: the metadata for a particular game type for the given season\n",
    "    \"\"\"\n",
    "    datafile_path = save_path + os.path.sep + str(year) + \".csv\"\n",
    "    if exists(datafile_path):\n",
    "        return pd.read_csv(datafile_path)\n",
    "    else:\n",
    "        no_of_matches = seasons_year_matches_map[year]\n",
    "        total_season_data = []\n",
    "        for i in tqdm(range(1, no_of_matches+1)):\n",
    "            formatted_game_id = str(year) + game_type_map[game_type] + format(i, \"04\")\n",
    "            match_data = get_data_by_gameid(game_id=formatted_game_id)\n",
    "            total_season_data.append(match_data)\n",
    "\n",
    "        df = pd.DataFrame.from_records(total_season_data)\n",
    "        df.to_csv(\"..\" + os.path.sep + save_path + os.path.sep + str(year) + \"_ \" + game_type + \".csv\", index=False)\n",
    "        return None\n"
   ]
  },
  {
   "cell_type": "code",
   "execution_count": 26,
   "id": "ba3c46c6",
   "metadata": {},
   "outputs": [
    {
     "name": "stderr",
     "output_type": "stream",
     "text": [
      "100%|███████████████████████████████████████████| 19/19 [00:06<00:00,  3.04it/s]"
     ]
    },
    {
     "name": "stdout",
     "output_type": "stream",
     "text": [
      "/Users/amandalmia/workspace/mila/datascience/project/hockey-primer-1/notebooks/data/2016.csv\n"
     ]
    },
    {
     "name": "stderr",
     "output_type": "stream",
     "text": [
      "\n"
     ]
    }
   ],
   "source": [
    "get_data_by_season(year=2016, season=\"regular_season\", save_path=\"data\")"
   ]
  },
  {
   "cell_type": "code",
   "execution_count": null,
   "id": "c9f7dbcc",
   "metadata": {},
   "outputs": [],
   "source": []
  }
 ],
 "metadata": {
  "kernelspec": {
   "display_name": "Python 3 (ipykernel)",
   "language": "python",
   "name": "python3"
  },
  "language_info": {
   "codemirror_mode": {
    "name": "ipython",
    "version": 3
   },
   "file_extension": ".py",
   "mimetype": "text/x-python",
   "name": "python",
   "nbconvert_exporter": "python",
   "pygments_lexer": "ipython3",
   "version": "3.8.5"
  }
 },
 "nbformat": 4,
 "nbformat_minor": 5
}
