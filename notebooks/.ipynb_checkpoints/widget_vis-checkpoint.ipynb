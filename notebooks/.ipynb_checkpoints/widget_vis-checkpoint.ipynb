{
 "cells": [
  {
   "cell_type": "code",
   "execution_count": null,
   "id": "833ad318",
   "metadata": {},
   "outputs": [],
   "source": [
    "import ipywidgets as widgets"
   ]
  },
  {
   "cell_type": "code",
   "execution_count": 3,
   "id": "889b35a8",
   "metadata": {},
   "outputs": [
    {
     "data": {
      "application/vnd.jupyter.widget-view+json": {
       "model_id": "8e6b53cb854d4d8ba0c095a7262abe7c",
       "version_major": 2,
       "version_minor": 0
      },
      "text/plain": [
       "FloatSlider(value=7.5, description='Input:', max=10.0, min=5.0)"
      ]
     },
     "execution_count": 3,
     "metadata": {},
     "output_type": "execute_result"
    }
   ],
   "source": [
    "slider = widgets.FloatSlider(\n",
    "    value=7.5,\n",
    "    min=5.0,\n",
    "    max=10.0,\n",
    "    step=0.1,\n",
    "    description='Input:',\n",
    ")\n",
    "\n",
    "slider"
   ]
  },
  {
   "cell_type": "code",
   "execution_count": 9,
   "id": "487b87d5",
   "metadata": {},
   "outputs": [
    {
     "name": "stdout",
     "output_type": "stream",
     "text": [
      "data_extractions.ipynb widget_vis.ipynb\r\n"
     ]
    }
   ],
   "source": [
    "!ls"
   ]
  },
  {
   "cell_type": "code",
   "execution_count": null,
   "id": "2ca768b7",
   "metadata": {},
   "outputs": [],
   "source": [
    "import json\n",
    "import os\n",
    "import pandas as pd"
   ]
  },
  {
   "cell_type": "code",
   "execution_count": null,
   "id": "32a212ba",
   "metadata": {},
   "outputs": [],
   "source": [
    "f = open('/Users/vaibhavjade/classwork/data science/hockey-primer-1/data/trial.json')"
   ]
  },
  {
   "cell_type": "code",
   "execution_count": null,
   "id": "a59e8c9d",
   "metadata": {},
   "outputs": [],
   "source": [
    "sample = json.load(f)"
   ]
  },
  {
   "cell_type": "code",
   "execution_count": null,
   "id": "026b9a0c",
   "metadata": {},
   "outputs": [],
   "source": []
  },
  {
   "cell_type": "code",
   "execution_count": 24,
   "id": "e9296375",
   "metadata": {},
   "outputs": [
    {
     "data": {
      "text/plain": [
       "{'players': [{'player': {'id': 8471675,\n",
       "    'fullName': 'Sidney Crosby',\n",
       "    'link': '/api/v1/people/8471675'},\n",
       "   'playerType': 'Winner'},\n",
       "  {'player': {'id': 8474009,\n",
       "    'fullName': 'Nick Bonino',\n",
       "    'link': '/api/v1/people/8474009'},\n",
       "   'playerType': 'Loser'}],\n",
       " 'result': {'event': 'Faceoff',\n",
       "  'eventCode': 'PIT53',\n",
       "  'eventTypeId': 'FACEOFF',\n",
       "  'description': 'Sidney Crosby faceoff won against Nick Bonino'},\n",
       " 'about': {'eventIdx': 3,\n",
       "  'eventId': 53,\n",
       "  'period': 1,\n",
       "  'periodType': 'REGULAR',\n",
       "  'ordinalNum': '1st',\n",
       "  'periodTime': '00:00',\n",
       "  'periodTimeRemaining': '20:00',\n",
       "  'dateTime': '2017-10-07T23:08:02Z',\n",
       "  'goals': {'away': 0, 'home': 0}},\n",
       " 'coordinates': {'x': 0.0, 'y': 0.0},\n",
       " 'team': {'id': 5,\n",
       "  'name': 'Pittsburgh Penguins',\n",
       "  'link': '/api/v1/teams/5',\n",
       "  'triCode': 'PIT'}}"
      ]
     },
     "execution_count": 24,
     "metadata": {},
     "output_type": "execute_result"
    }
   ],
   "source": [
    "sample['liveData']['plays']['allPlays'][3]"
   ]
  },
  {
   "cell_type": "code",
   "execution_count": null,
   "id": "c4ef8dac",
   "metadata": {},
   "outputs": [],
   "source": []
  }
 ],
 "metadata": {
  "kernelspec": {
   "display_name": "Python 3 (ipykernel)",
   "language": "python",
   "name": "python3"
  },
  "language_info": {
   "codemirror_mode": {
    "name": "ipython",
    "version": 3
   },
   "file_extension": ".py",
   "mimetype": "text/x-python",
   "name": "python",
   "nbconvert_exporter": "python",
   "pygments_lexer": "ipython3",
   "version": "3.10.6"
  }
 },
 "nbformat": 4,
 "nbformat_minor": 5
}
