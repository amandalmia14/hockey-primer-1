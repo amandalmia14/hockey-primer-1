{
 "cells": [
  {
   "cell_type": "code",
   "execution_count": 1,
   "id": "833ad318",
   "metadata": {},
   "outputs": [],
   "source": [
    "import ipywidgets as widgets"
   ]
  },
  {
   "cell_type": "code",
   "execution_count": 35,
   "id": "889b35a8",
   "metadata": {},
   "outputs": [
    {
     "data": {
      "application/vnd.jupyter.widget-view+json": {
       "model_id": "2b3f3a351e364c15bffb5292d66c89c5",
       "version_major": 2,
       "version_minor": 0
      },
      "text/plain": [
       "FloatSlider(value=7.5, description='Input:', max=10.0, min=5.0)"
      ]
     },
     "execution_count": 35,
     "metadata": {},
     "output_type": "execute_result"
    }
   ],
   "source": [
    "slider = widgets.FloatSlider(\n",
    "    value=7.5,\n",
    "    min=5.0,\n",
    "    max=10.0,\n",
    "    step=0.1,\n",
    "    description='Input:',\n",
    ")\n",
    "\n",
    "slider"
   ]
  },
  {
   "cell_type": "code",
   "execution_count": 39,
   "id": "769abfb1",
   "metadata": {},
   "outputs": [
    {
     "name": "stdout",
     "output_type": "stream",
     "text": [
      "/Users/vaibhavjade/classwork/data science/hockey-primer-1/notebooks\r\n"
     ]
    }
   ],
   "source": [
    "!pwd"
   ]
  },
  {
   "cell_type": "code",
   "execution_count": 20,
   "id": "2ca768b7",
   "metadata": {},
   "outputs": [],
   "source": [
    "import json\n",
    "import os\n",
    "import pandas as pd"
   ]
  },
  {
   "cell_type": "code",
   "execution_count": 21,
   "id": "332499ab",
   "metadata": {},
   "outputs": [],
   "source": [
    "f = open('/Users/vaibhavjade/classwork/data science/hockey-primer-1/data/trial.json')"
   ]
  },
  {
   "cell_type": "code",
   "execution_count": 22,
   "id": "c17cbbe7",
   "metadata": {},
   "outputs": [],
   "source": [
    "sample = json.load(f)"
   ]
  },
  {
   "cell_type": "markdown",
   "id": "618ef267",
   "metadata": {},
   "source": [
    "sample"
   ]
  },
  {
   "cell_type": "code",
   "execution_count": 10,
   "id": "33f283c7",
   "metadata": {},
   "outputs": [
    {
     "data": {
      "text/plain": [
       "dict_keys(['copyright', 'gamePk', 'link', 'metaData', 'gameData', 'liveData'])"
      ]
     },
     "execution_count": 10,
     "metadata": {},
     "output_type": "execute_result"
    }
   ],
   "source": [
    "sample.keys()"
   ]
  },
  {
   "cell_type": "code",
   "execution_count": 28,
   "id": "fa854282",
   "metadata": {},
   "outputs": [
    {
     "data": {
      "text/plain": [
       "dict_keys(['game', 'datetime', 'status', 'teams', 'players', 'venue'])"
      ]
     },
     "execution_count": 28,
     "metadata": {},
     "output_type": "execute_result"
    }
   ],
   "source": [
    "sample['gameData'].keys()"
   ]
  },
  {
   "cell_type": "code",
   "execution_count": 29,
   "id": "9b45404a",
   "metadata": {
    "collapsed": true
   },
   "outputs": [
    {
     "data": {
      "text/plain": [
       "{'away': {'id': 18,\n",
       "  'name': 'Nashville Predators',\n",
       "  'link': '/api/v1/teams/18',\n",
       "  'venue': {'id': 5030,\n",
       "   'name': 'Bridgestone Arena',\n",
       "   'link': '/api/v1/venues/5030',\n",
       "   'city': 'Nashville',\n",
       "   'timeZone': {'id': 'America/Chicago', 'offset': -5, 'tz': 'CDT'}},\n",
       "  'abbreviation': 'NSH',\n",
       "  'triCode': 'NSH',\n",
       "  'teamName': 'Predators',\n",
       "  'locationName': 'Nashville',\n",
       "  'firstYearOfPlay': '1998',\n",
       "  'division': {'id': 16, 'name': 'Central', 'link': '/api/v1/divisions/16'},\n",
       "  'conference': {'id': 5, 'name': 'Western', 'link': '/api/v1/conferences/5'},\n",
       "  'franchise': {'franchiseId': 34,\n",
       "   'teamName': 'Predators',\n",
       "   'link': '/api/v1/franchises/34'},\n",
       "  'shortName': 'Nashville',\n",
       "  'officialSiteUrl': 'http://www.nashvillepredators.com',\n",
       "  'franchiseId': 34,\n",
       "  'active': True},\n",
       " 'home': {'id': 5,\n",
       "  'name': 'Pittsburgh Penguins',\n",
       "  'link': '/api/v1/teams/5',\n",
       "  'venue': {'id': 5034,\n",
       "   'name': 'PPG Paints Arena',\n",
       "   'link': '/api/v1/venues/5034',\n",
       "   'city': 'Pittsburgh',\n",
       "   'timeZone': {'id': 'America/New_York', 'offset': -4, 'tz': 'EDT'}},\n",
       "  'abbreviation': 'PIT',\n",
       "  'triCode': 'PIT',\n",
       "  'teamName': 'Penguins',\n",
       "  'locationName': 'Pittsburgh',\n",
       "  'firstYearOfPlay': '1967',\n",
       "  'division': {'id': 18,\n",
       "   'name': 'Metropolitan',\n",
       "   'link': '/api/v1/divisions/18'},\n",
       "  'conference': {'id': 6, 'name': 'Eastern', 'link': '/api/v1/conferences/6'},\n",
       "  'franchise': {'franchiseId': 17,\n",
       "   'teamName': 'Penguins',\n",
       "   'link': '/api/v1/franchises/17'},\n",
       "  'shortName': 'Pittsburgh',\n",
       "  'officialSiteUrl': 'http://www.pittsburghpenguins.com',\n",
       "  'franchiseId': 17,\n",
       "  'active': True}}"
      ]
     },
     "execution_count": 29,
     "metadata": {},
     "output_type": "execute_result"
    }
   ],
   "source": [
    "sample['gameData']['teams']"
   ]
  },
  {
   "cell_type": "code",
   "execution_count": 23,
   "id": "1b57f930",
   "metadata": {},
   "outputs": [],
   "source": [
    "data = sample['liveData']['plays']['allPlays'][6]"
   ]
  },
  {
   "cell_type": "code",
   "execution_count": 33,
   "id": "ab630966",
   "metadata": {
    "collapsed": true
   },
   "outputs": [
    {
     "name": "stdout",
     "output_type": "stream",
     "text": [
      "dict_keys(['result', 'about', 'coordinates'])\n",
      "dict_keys(['result', 'about', 'coordinates'])\n",
      "dict_keys(['result', 'about', 'coordinates'])\n",
      "dict_keys(['players', 'result', 'about', 'coordinates', 'team'])\n",
      "dict_keys(['players', 'result', 'about', 'coordinates', 'team'])\n",
      "dict_keys(['players', 'result', 'about', 'coordinates', 'team'])\n",
      "dict_keys(['players', 'result', 'about', 'coordinates', 'team'])\n",
      "dict_keys(['players', 'result', 'about', 'coordinates', 'team'])\n",
      "dict_keys(['players', 'result', 'about', 'coordinates', 'team'])\n",
      "dict_keys(['players', 'result', 'about', 'coordinates', 'team'])\n",
      "dict_keys(['players', 'result', 'about', 'coordinates', 'team'])\n",
      "dict_keys(['players', 'result', 'about', 'coordinates', 'team'])\n",
      "dict_keys(['players', 'result', 'about', 'coordinates', 'team'])\n",
      "dict_keys(['players', 'result', 'about', 'coordinates', 'team'])\n",
      "dict_keys(['players', 'result', 'about', 'coordinates', 'team'])\n",
      "dict_keys(['players', 'result', 'about', 'coordinates', 'team'])\n",
      "dict_keys(['players', 'result', 'about', 'coordinates', 'team'])\n",
      "dict_keys(['players', 'result', 'about', 'coordinates', 'team'])\n",
      "dict_keys(['players', 'result', 'about', 'coordinates', 'team'])\n",
      "dict_keys(['result', 'about', 'coordinates'])\n",
      "dict_keys(['players', 'result', 'about', 'coordinates', 'team'])\n",
      "dict_keys(['players', 'result', 'about', 'coordinates', 'team'])\n",
      "dict_keys(['result', 'about', 'coordinates'])\n",
      "dict_keys(['players', 'result', 'about', 'coordinates', 'team'])\n",
      "dict_keys(['players', 'result', 'about', 'coordinates', 'team'])\n",
      "dict_keys(['players', 'result', 'about', 'coordinates', 'team'])\n",
      "dict_keys(['players', 'result', 'about', 'coordinates', 'team'])\n",
      "dict_keys(['players', 'result', 'about', 'coordinates', 'team'])\n",
      "dict_keys(['players', 'result', 'about', 'coordinates', 'team'])\n",
      "dict_keys(['players', 'result', 'about', 'coordinates', 'team'])\n",
      "dict_keys(['players', 'result', 'about', 'coordinates', 'team'])\n",
      "dict_keys(['players', 'result', 'about', 'coordinates', 'team'])\n",
      "dict_keys(['players', 'result', 'about', 'coordinates', 'team'])\n",
      "dict_keys(['players', 'result', 'about', 'coordinates', 'team'])\n",
      "dict_keys(['players', 'result', 'about', 'coordinates', 'team'])\n",
      "dict_keys(['players', 'result', 'about', 'coordinates', 'team'])\n",
      "dict_keys(['players', 'result', 'about', 'coordinates', 'team'])\n",
      "dict_keys(['players', 'result', 'about', 'coordinates', 'team'])\n",
      "dict_keys(['players', 'result', 'about', 'coordinates', 'team'])\n",
      "dict_keys(['players', 'result', 'about', 'coordinates', 'team'])\n",
      "dict_keys(['players', 'result', 'about', 'coordinates', 'team'])\n",
      "dict_keys(['players', 'result', 'about', 'coordinates', 'team'])\n",
      "dict_keys(['result', 'about', 'coordinates'])\n",
      "dict_keys(['players', 'result', 'about', 'coordinates', 'team'])\n",
      "dict_keys(['players', 'result', 'about', 'coordinates', 'team'])\n",
      "dict_keys(['players', 'result', 'about', 'coordinates', 'team'])\n",
      "dict_keys(['players', 'result', 'about', 'coordinates', 'team'])\n",
      "dict_keys(['players', 'result', 'about', 'coordinates', 'team'])\n",
      "dict_keys(['players', 'result', 'about', 'coordinates', 'team'])\n",
      "dict_keys(['result', 'about', 'coordinates'])\n",
      "dict_keys(['players', 'result', 'about', 'coordinates', 'team'])\n",
      "dict_keys(['players', 'result', 'about', 'coordinates', 'team'])\n",
      "dict_keys(['players', 'result', 'about', 'coordinates', 'team'])\n",
      "dict_keys(['players', 'result', 'about', 'coordinates', 'team'])\n",
      "dict_keys(['players', 'result', 'about', 'coordinates', 'team'])\n",
      "dict_keys(['players', 'result', 'about', 'coordinates', 'team'])\n",
      "dict_keys(['players', 'result', 'about', 'coordinates', 'team'])\n",
      "dict_keys(['players', 'result', 'about', 'coordinates', 'team'])\n",
      "dict_keys(['players', 'result', 'about', 'coordinates', 'team'])\n",
      "dict_keys(['players', 'result', 'about', 'coordinates', 'team'])\n",
      "dict_keys(['players', 'result', 'about', 'coordinates', 'team'])\n",
      "dict_keys(['players', 'result', 'about', 'coordinates', 'team'])\n",
      "dict_keys(['players', 'result', 'about', 'coordinates', 'team'])\n",
      "dict_keys(['players', 'result', 'about', 'coordinates', 'team'])\n",
      "dict_keys(['players', 'result', 'about', 'coordinates', 'team'])\n",
      "dict_keys(['players', 'result', 'about', 'coordinates', 'team'])\n",
      "dict_keys(['players', 'result', 'about', 'coordinates', 'team'])\n",
      "dict_keys(['players', 'result', 'about', 'coordinates', 'team'])\n",
      "dict_keys(['players', 'result', 'about', 'coordinates', 'team'])\n",
      "dict_keys(['result', 'about', 'coordinates'])\n",
      "dict_keys(['players', 'result', 'about', 'coordinates', 'team'])\n",
      "dict_keys(['players', 'result', 'about', 'coordinates', 'team'])\n",
      "dict_keys(['players', 'result', 'about', 'coordinates', 'team'])\n",
      "dict_keys(['players', 'result', 'about', 'coordinates', 'team'])\n",
      "dict_keys(['result', 'about', 'coordinates'])\n",
      "dict_keys(['players', 'result', 'about', 'coordinates', 'team'])\n",
      "dict_keys(['players', 'result', 'about', 'coordinates', 'team'])\n",
      "dict_keys(['result', 'about', 'coordinates'])\n",
      "dict_keys(['players', 'result', 'about', 'coordinates', 'team'])\n",
      "dict_keys(['players', 'result', 'about', 'coordinates', 'team'])\n",
      "dict_keys(['players', 'result', 'about', 'coordinates', 'team'])\n",
      "dict_keys(['players', 'result', 'about', 'coordinates', 'team'])\n",
      "dict_keys(['players', 'result', 'about', 'coordinates', 'team'])\n",
      "dict_keys(['result', 'about', 'coordinates'])\n",
      "dict_keys(['players', 'result', 'about', 'coordinates', 'team'])\n",
      "dict_keys(['players', 'result', 'about', 'coordinates', 'team'])\n",
      "dict_keys(['result', 'about', 'coordinates'])\n",
      "dict_keys(['players', 'result', 'about', 'coordinates', 'team'])\n",
      "dict_keys(['result', 'about', 'coordinates'])\n",
      "dict_keys(['players', 'result', 'about', 'coordinates', 'team'])\n",
      "dict_keys(['result', 'about', 'coordinates'])\n",
      "dict_keys(['players', 'result', 'about', 'coordinates', 'team'])\n",
      "dict_keys(['players', 'result', 'about', 'coordinates', 'team'])\n",
      "dict_keys(['result', 'about', 'coordinates'])\n",
      "dict_keys(['players', 'result', 'about', 'coordinates', 'team'])\n",
      "dict_keys(['players', 'result', 'about', 'coordinates', 'team'])\n",
      "dict_keys(['players', 'result', 'about', 'coordinates', 'team'])\n",
      "dict_keys(['result', 'about', 'coordinates'])\n",
      "dict_keys(['players', 'result', 'about', 'coordinates', 'team'])\n",
      "dict_keys(['players', 'result', 'about', 'coordinates', 'team'])\n",
      "dict_keys(['players', 'result', 'about', 'coordinates', 'team'])\n",
      "dict_keys(['result', 'about', 'coordinates'])\n",
      "dict_keys(['result', 'about', 'coordinates'])\n",
      "dict_keys(['result', 'about', 'coordinates'])\n",
      "dict_keys(['result', 'about', 'coordinates'])\n",
      "dict_keys(['players', 'result', 'about', 'coordinates', 'team'])\n",
      "dict_keys(['result', 'about', 'coordinates'])\n",
      "dict_keys(['players', 'result', 'about', 'coordinates', 'team'])\n",
      "dict_keys(['players', 'result', 'about', 'coordinates', 'team'])\n",
      "dict_keys(['result', 'about', 'coordinates'])\n",
      "dict_keys(['players', 'result', 'about', 'coordinates', 'team'])\n",
      "dict_keys(['players', 'result', 'about', 'coordinates', 'team'])\n",
      "dict_keys(['players', 'result', 'about', 'coordinates', 'team'])\n",
      "dict_keys(['players', 'result', 'about', 'coordinates', 'team'])\n",
      "dict_keys(['result', 'about', 'coordinates'])\n",
      "dict_keys(['players', 'result', 'about', 'coordinates', 'team'])\n",
      "dict_keys(['result', 'about', 'coordinates'])\n",
      "dict_keys(['players', 'result', 'about', 'coordinates', 'team'])\n",
      "dict_keys(['players', 'result', 'about', 'coordinates', 'team'])\n",
      "dict_keys(['players', 'result', 'about', 'coordinates', 'team'])\n",
      "dict_keys(['result', 'about', 'coordinates'])\n",
      "dict_keys(['players', 'result', 'about', 'coordinates', 'team'])\n",
      "dict_keys(['players', 'result', 'about', 'coordinates', 'team'])\n",
      "dict_keys(['players', 'result', 'about', 'coordinates', 'team'])\n",
      "dict_keys(['players', 'result', 'about', 'coordinates', 'team'])\n",
      "dict_keys(['players', 'result', 'about', 'coordinates', 'team'])\n",
      "dict_keys(['players', 'result', 'about', 'coordinates', 'team'])\n",
      "dict_keys(['players', 'result', 'about', 'coordinates', 'team'])\n",
      "dict_keys(['players', 'result', 'about', 'coordinates', 'team'])\n",
      "dict_keys(['players', 'result', 'about', 'coordinates', 'team'])\n",
      "dict_keys(['result', 'about', 'coordinates'])\n",
      "dict_keys(['players', 'result', 'about', 'coordinates', 'team'])\n",
      "dict_keys(['result', 'about', 'coordinates'])\n",
      "dict_keys(['players', 'result', 'about', 'coordinates', 'team'])\n",
      "dict_keys(['players', 'result', 'about', 'coordinates', 'team'])\n",
      "dict_keys(['result', 'about', 'coordinates'])\n",
      "dict_keys(['players', 'result', 'about', 'coordinates', 'team'])\n",
      "dict_keys(['players', 'result', 'about', 'coordinates', 'team'])\n",
      "dict_keys(['result', 'about', 'coordinates'])\n",
      "dict_keys(['players', 'result', 'about', 'coordinates', 'team'])\n",
      "dict_keys(['players', 'result', 'about', 'coordinates', 'team'])\n",
      "dict_keys(['result', 'about', 'coordinates'])\n",
      "dict_keys(['players', 'result', 'about', 'coordinates', 'team'])\n",
      "dict_keys(['players', 'result', 'about', 'coordinates', 'team'])\n",
      "dict_keys(['players', 'result', 'about', 'coordinates', 'team'])\n",
      "dict_keys(['players', 'result', 'about', 'coordinates', 'team'])\n",
      "dict_keys(['players', 'result', 'about', 'coordinates', 'team'])\n",
      "dict_keys(['players', 'result', 'about', 'coordinates', 'team'])\n",
      "dict_keys(['result', 'about', 'coordinates'])\n",
      "dict_keys(['players', 'result', 'about', 'coordinates', 'team'])\n",
      "dict_keys(['players', 'result', 'about', 'coordinates', 'team'])\n",
      "dict_keys(['players', 'result', 'about', 'coordinates', 'team'])\n",
      "dict_keys(['players', 'result', 'about', 'coordinates', 'team'])\n",
      "dict_keys(['players', 'result', 'about', 'coordinates', 'team'])\n",
      "dict_keys(['players', 'result', 'about', 'coordinates', 'team'])\n",
      "dict_keys(['result', 'about', 'coordinates'])\n",
      "dict_keys(['players', 'result', 'about', 'coordinates', 'team'])\n",
      "dict_keys(['players', 'result', 'about', 'coordinates', 'team'])\n",
      "dict_keys(['players', 'result', 'about', 'coordinates', 'team'])\n",
      "dict_keys(['players', 'result', 'about', 'coordinates', 'team'])\n",
      "dict_keys(['players', 'result', 'about', 'coordinates', 'team'])\n",
      "dict_keys(['players', 'result', 'about', 'coordinates', 'team'])\n",
      "dict_keys(['result', 'about', 'coordinates'])\n",
      "dict_keys(['players', 'result', 'about', 'coordinates', 'team'])\n",
      "dict_keys(['players', 'result', 'about', 'coordinates', 'team'])\n",
      "dict_keys(['result', 'about', 'coordinates'])\n",
      "dict_keys(['players', 'result', 'about', 'coordinates', 'team'])\n",
      "dict_keys(['players', 'result', 'about', 'coordinates', 'team'])\n",
      "dict_keys(['players', 'result', 'about', 'coordinates', 'team'])\n",
      "dict_keys(['players', 'result', 'about', 'coordinates', 'team'])\n",
      "dict_keys(['result', 'about', 'coordinates'])\n",
      "dict_keys(['players', 'result', 'about', 'coordinates', 'team'])\n",
      "dict_keys(['players', 'result', 'about', 'coordinates', 'team'])\n",
      "dict_keys(['result', 'about', 'coordinates'])\n",
      "dict_keys(['players', 'result', 'about', 'coordinates', 'team'])\n",
      "dict_keys(['result', 'about', 'coordinates'])\n",
      "dict_keys(['players', 'result', 'about', 'coordinates', 'team'])\n",
      "dict_keys(['players', 'result', 'about', 'coordinates', 'team'])\n",
      "dict_keys(['result', 'about', 'coordinates'])\n",
      "dict_keys(['players', 'result', 'about', 'coordinates', 'team'])\n",
      "dict_keys(['players', 'result', 'about', 'coordinates', 'team'])\n",
      "dict_keys(['players', 'result', 'about', 'coordinates', 'team'])\n",
      "dict_keys(['players', 'result', 'about', 'coordinates', 'team'])\n",
      "dict_keys(['players', 'result', 'about', 'coordinates', 'team'])\n",
      "dict_keys(['result', 'about', 'coordinates'])\n",
      "dict_keys(['players', 'result', 'about', 'coordinates', 'team'])\n",
      "dict_keys(['players', 'result', 'about', 'coordinates', 'team'])\n",
      "dict_keys(['players', 'result', 'about', 'coordinates', 'team'])\n",
      "dict_keys(['players', 'result', 'about', 'coordinates', 'team'])\n",
      "dict_keys(['players', 'result', 'about', 'coordinates', 'team'])\n",
      "dict_keys(['players', 'result', 'about', 'coordinates', 'team'])\n",
      "dict_keys(['players', 'result', 'about', 'coordinates', 'team'])\n",
      "dict_keys(['players', 'result', 'about', 'coordinates', 'team'])\n",
      "dict_keys(['result', 'about', 'coordinates'])\n",
      "dict_keys(['players', 'result', 'about', 'coordinates', 'team'])\n",
      "dict_keys(['players', 'result', 'about', 'coordinates', 'team'])\n",
      "dict_keys(['result', 'about', 'coordinates'])\n",
      "dict_keys(['players', 'result', 'about', 'coordinates', 'team'])\n",
      "dict_keys(['players', 'result', 'about', 'coordinates', 'team'])\n",
      "dict_keys(['result', 'about', 'coordinates'])\n",
      "dict_keys(['players', 'result', 'about', 'coordinates', 'team'])\n",
      "dict_keys(['players', 'result', 'about', 'coordinates', 'team'])\n",
      "dict_keys(['players', 'result', 'about', 'coordinates', 'team'])\n",
      "dict_keys(['players', 'result', 'about', 'coordinates', 'team'])\n",
      "dict_keys(['players', 'result', 'about', 'coordinates', 'team'])\n",
      "dict_keys(['result', 'about', 'coordinates'])\n",
      "dict_keys(['players', 'result', 'about', 'coordinates', 'team'])\n",
      "dict_keys(['players', 'result', 'about', 'coordinates', 'team'])\n",
      "dict_keys(['players', 'result', 'about', 'coordinates', 'team'])\n",
      "dict_keys(['players', 'result', 'about', 'coordinates', 'team'])\n",
      "dict_keys(['players', 'result', 'about', 'coordinates', 'team'])\n",
      "dict_keys(['players', 'result', 'about', 'coordinates', 'team'])\n",
      "dict_keys(['players', 'result', 'about', 'coordinates', 'team'])\n",
      "dict_keys(['players', 'result', 'about', 'coordinates', 'team'])\n",
      "dict_keys(['players', 'result', 'about', 'coordinates', 'team'])\n",
      "dict_keys(['players', 'result', 'about', 'coordinates', 'team'])\n",
      "dict_keys(['result', 'about', 'coordinates'])\n",
      "dict_keys(['players', 'result', 'about', 'coordinates', 'team'])\n",
      "dict_keys(['players', 'result', 'about', 'coordinates', 'team'])\n",
      "dict_keys(['result', 'about', 'coordinates'])\n",
      "dict_keys(['result', 'about', 'coordinates'])\n",
      "dict_keys(['result', 'about', 'coordinates'])\n",
      "dict_keys(['result', 'about', 'coordinates'])\n",
      "dict_keys(['players', 'result', 'about', 'coordinates', 'team'])\n",
      "dict_keys(['players', 'result', 'about', 'coordinates', 'team'])\n",
      "dict_keys(['players', 'result', 'about', 'coordinates', 'team'])\n",
      "dict_keys(['players', 'result', 'about', 'coordinates', 'team'])\n",
      "dict_keys(['players', 'result', 'about', 'coordinates', 'team'])\n",
      "dict_keys(['players', 'result', 'about', 'coordinates', 'team'])\n",
      "dict_keys(['result', 'about', 'coordinates'])\n",
      "dict_keys(['players', 'result', 'about', 'coordinates', 'team'])\n",
      "dict_keys(['players', 'result', 'about', 'coordinates', 'team'])\n",
      "dict_keys(['players', 'result', 'about', 'coordinates', 'team'])\n",
      "dict_keys(['players', 'result', 'about', 'coordinates', 'team'])\n",
      "dict_keys(['players', 'result', 'about', 'coordinates', 'team'])\n",
      "dict_keys(['result', 'about', 'coordinates'])\n",
      "dict_keys(['players', 'result', 'about', 'coordinates', 'team'])\n",
      "dict_keys(['result', 'about', 'coordinates'])\n",
      "dict_keys(['players', 'result', 'about', 'coordinates', 'team'])\n",
      "dict_keys(['result', 'about', 'coordinates'])\n",
      "dict_keys(['players', 'result', 'about', 'coordinates', 'team'])\n",
      "dict_keys(['players', 'result', 'about', 'coordinates', 'team'])\n",
      "dict_keys(['players', 'result', 'about', 'coordinates', 'team'])\n",
      "dict_keys(['players', 'result', 'about', 'coordinates', 'team'])\n",
      "dict_keys(['players', 'result', 'about', 'coordinates', 'team'])\n",
      "dict_keys(['players', 'result', 'about', 'coordinates', 'team'])\n",
      "dict_keys(['players', 'result', 'about', 'coordinates', 'team'])\n",
      "dict_keys(['players', 'result', 'about', 'coordinates', 'team'])\n",
      "dict_keys(['players', 'result', 'about', 'coordinates', 'team'])\n",
      "dict_keys(['result', 'about', 'coordinates'])\n",
      "dict_keys(['players', 'result', 'about', 'coordinates', 'team'])\n",
      "dict_keys(['players', 'result', 'about', 'coordinates', 'team'])\n",
      "dict_keys(['result', 'about', 'coordinates'])\n",
      "dict_keys(['players', 'result', 'about', 'coordinates', 'team'])\n",
      "dict_keys(['players', 'result', 'about', 'coordinates', 'team'])\n",
      "dict_keys(['players', 'result', 'about', 'coordinates', 'team'])\n",
      "dict_keys(['players', 'result', 'about', 'coordinates', 'team'])\n",
      "dict_keys(['players', 'result', 'about', 'coordinates', 'team'])\n",
      "dict_keys(['players', 'result', 'about', 'coordinates', 'team'])\n",
      "dict_keys(['players', 'result', 'about', 'coordinates', 'team'])\n",
      "dict_keys(['players', 'result', 'about', 'coordinates', 'team'])\n",
      "dict_keys(['players', 'result', 'about', 'coordinates', 'team'])\n",
      "dict_keys(['result', 'about', 'coordinates'])\n",
      "dict_keys(['players', 'result', 'about', 'coordinates', 'team'])\n",
      "dict_keys(['players', 'result', 'about', 'coordinates', 'team'])\n",
      "dict_keys(['players', 'result', 'about', 'coordinates', 'team'])\n",
      "dict_keys(['players', 'result', 'about', 'coordinates', 'team'])\n",
      "dict_keys(['players', 'result', 'about', 'coordinates', 'team'])\n",
      "dict_keys(['players', 'result', 'about', 'coordinates', 'team'])\n",
      "dict_keys(['players', 'result', 'about', 'coordinates', 'team'])\n",
      "dict_keys(['result', 'about', 'coordinates'])\n",
      "dict_keys(['players', 'result', 'about', 'coordinates', 'team'])\n",
      "dict_keys(['players', 'result', 'about', 'coordinates', 'team'])\n",
      "dict_keys(['players', 'result', 'about', 'coordinates', 'team'])\n",
      "dict_keys(['players', 'result', 'about', 'coordinates', 'team'])\n",
      "dict_keys(['players', 'result', 'about', 'coordinates', 'team'])\n",
      "dict_keys(['players', 'result', 'about', 'coordinates', 'team'])\n",
      "dict_keys(['result', 'about', 'coordinates'])\n",
      "dict_keys(['players', 'result', 'about', 'coordinates', 'team'])\n",
      "dict_keys(['players', 'result', 'about', 'coordinates', 'team'])\n",
      "dict_keys(['players', 'result', 'about', 'coordinates', 'team'])\n",
      "dict_keys(['players', 'result', 'about', 'coordinates', 'team'])\n",
      "dict_keys(['players', 'result', 'about', 'coordinates', 'team'])\n",
      "dict_keys(['players', 'result', 'about', 'coordinates', 'team'])\n",
      "dict_keys(['players', 'result', 'about', 'coordinates', 'team'])\n",
      "dict_keys(['players', 'result', 'about', 'coordinates', 'team'])\n",
      "dict_keys(['players', 'result', 'about', 'coordinates', 'team'])\n",
      "dict_keys(['players', 'result', 'about', 'coordinates', 'team'])\n",
      "dict_keys(['players', 'result', 'about', 'coordinates', 'team'])\n",
      "dict_keys(['players', 'result', 'about', 'coordinates', 'team'])\n",
      "dict_keys(['result', 'about', 'coordinates'])\n",
      "dict_keys(['players', 'result', 'about', 'coordinates', 'team'])\n",
      "dict_keys(['result', 'about', 'coordinates'])\n",
      "dict_keys(['players', 'result', 'about', 'coordinates', 'team'])\n",
      "dict_keys(['players', 'result', 'about', 'coordinates', 'team'])\n",
      "dict_keys(['result', 'about', 'coordinates'])\n",
      "dict_keys(['players', 'result', 'about', 'coordinates', 'team'])\n",
      "dict_keys(['players', 'result', 'about', 'coordinates', 'team'])\n",
      "dict_keys(['players', 'result', 'about', 'coordinates', 'team'])\n",
      "dict_keys(['players', 'result', 'about', 'coordinates', 'team'])\n",
      "dict_keys(['players', 'result', 'about', 'coordinates', 'team'])\n",
      "dict_keys(['players', 'result', 'about', 'coordinates', 'team'])\n",
      "dict_keys(['players', 'result', 'about', 'coordinates', 'team'])\n",
      "dict_keys(['players', 'result', 'about', 'coordinates', 'team'])\n",
      "dict_keys(['players', 'result', 'about', 'coordinates', 'team'])\n",
      "dict_keys(['players', 'result', 'about', 'coordinates', 'team'])\n",
      "dict_keys(['players', 'result', 'about', 'coordinates', 'team'])\n",
      "dict_keys(['players', 'result', 'about', 'coordinates', 'team'])\n",
      "dict_keys(['players', 'result', 'about', 'coordinates', 'team'])\n",
      "dict_keys(['result', 'about', 'coordinates'])\n",
      "dict_keys(['players', 'result', 'about', 'coordinates', 'team'])\n",
      "dict_keys(['players', 'result', 'about', 'coordinates', 'team'])\n",
      "dict_keys(['players', 'result', 'about', 'coordinates', 'team'])\n",
      "dict_keys(['players', 'result', 'about', 'coordinates', 'team'])\n",
      "dict_keys(['players', 'result', 'about', 'coordinates', 'team'])\n",
      "dict_keys(['players', 'result', 'about', 'coordinates', 'team'])\n",
      "dict_keys(['players', 'result', 'about', 'coordinates', 'team'])\n",
      "dict_keys(['players', 'result', 'about', 'coordinates', 'team'])\n",
      "dict_keys(['players', 'result', 'about', 'coordinates', 'team'])\n",
      "dict_keys(['players', 'result', 'about', 'coordinates', 'team'])\n",
      "dict_keys(['players', 'result', 'about', 'coordinates', 'team'])\n",
      "dict_keys(['players', 'result', 'about', 'coordinates', 'team'])\n",
      "dict_keys(['players', 'result', 'about', 'coordinates', 'team'])\n",
      "dict_keys(['result', 'about', 'coordinates'])\n",
      "dict_keys(['players', 'result', 'about', 'coordinates', 'team'])\n",
      "dict_keys(['players', 'result', 'about', 'coordinates', 'team'])\n",
      "dict_keys(['players', 'result', 'about', 'coordinates', 'team'])\n",
      "dict_keys(['players', 'result', 'about', 'coordinates', 'team'])\n",
      "dict_keys(['result', 'about', 'coordinates'])\n",
      "dict_keys(['result', 'about', 'coordinates'])\n",
      "dict_keys(['result', 'about', 'coordinates'])\n"
     ]
    }
   ],
   "source": [
    "for i in sample['liveData']['plays']['allPlays']:\n",
    "    print(i.keys())"
   ]
  },
  {
   "cell_type": "code",
   "execution_count": 24,
   "id": "a424e010",
   "metadata": {},
   "outputs": [],
   "source": [
    "df = pd.DataFrame.from_dict(sample['liveData']['plays']['allPlays'])"
   ]
  },
  {
   "cell_type": "code",
   "execution_count": 3,
   "id": "38fc9773",
   "metadata": {},
   "outputs": [],
   "source": [
    "import numpy as np\n",
    "from matplotlib import pyplot as plt\n"
   ]
  },
  {
   "cell_type": "code",
   "execution_count": 32,
   "id": "51d16fa8",
   "metadata": {},
   "outputs": [
    {
     "data": {
      "image/png": "[encoded data removed]",
      "text/plain": [
       "<Figure size 640x480 with 1 Axes>"
      ]
     },
     "metadata": {},
     "output_type": "display_data"
    }
   ],
   "source": [
    "im = plt.imread('../figures/nhl_rink.png')\n",
    "# dim (467,1100,4)\n",
    "fig, ax = plt.subplots()\n",
    "ax.imshow(im, extent=[-100,100,-42.5,42.5])\n",
    "#x = np.array(range(300))\n",
    "ax.plot(data['coordinates']['x'],data['coordinates']['y'], marker='o',markersize=10, markeredgecolor=\"red\", markerfacecolor=\"blue\")\n",
    "plt.show()"
   ]
  },
  {
   "cell_type": "code",
   "execution_count": 24,
   "id": "ae57a077",
   "metadata": {},
   "outputs": [
    {
     "data": {
      "text/plain": [
       "{'x': 46.0, 'y': 7.0}"
      ]
     },
     "execution_count": 24,
     "metadata": {},
     "output_type": "execute_result"
    }
   ],
   "source": [
    "data['coordinates']"
   ]
  },
  {
   "cell_type": "code",
   "execution_count": 91,
   "id": "2eb2a09b",
   "metadata": {},
   "outputs": [],
   "source": [
    "def plot_image(corr,desc):\n",
    "    im = plt.imread('../figures/nhl_rink.png')\n",
    "    fig, ax = plt.subplots()\n",
    "    fig.suptitle(desc,y=0.8)\n",
    "    ax.imshow(im, extent=[-100,100,-42.5,42.5])\n",
    "    # plotting the point\n",
    "    ax.plot(corr['x'],corr['y'], marker='o',markersize=10, markeredgecolor=\"red\", markerfacecolor=\"blue\")"
   ]
  },
  {
   "cell_type": "code",
   "execution_count": 92,
   "id": "c8f8ae10",
   "metadata": {},
   "outputs": [
    {
     "data": {
      "image/png": "[encoded data removed]",
      "text/plain": [
       "<Figure size 640x480 with 1 Axes>"
      ]
     },
     "metadata": {},
     "output_type": "display_data"
    }
   ],
   "source": [
    "plot_image(data['coordinates'],data['result']['description'])"
   ]
  },
  {
   "cell_type": "code",
   "execution_count": 56,
   "id": "c5e40a0e",
   "metadata": {},
   "outputs": [
    {
     "data": {
      "text/plain": [
       "{'result': {'event': 'Game Scheduled',\n",
       "  'eventCode': 'PIT1',\n",
       "  'eventTypeId': 'GAME_SCHEDULED',\n",
       "  'description': 'Game Scheduled'},\n",
       " 'about': {'eventIdx': 0,\n",
       "  'eventId': 1,\n",
       "  'period': 1,\n",
       "  'periodType': 'REGULAR',\n",
       "  'ordinalNum': '1st',\n",
       "  'periodTime': '00:00',\n",
       "  'periodTimeRemaining': '20:00',\n",
       "  'dateTime': '2017-10-07T22:13:48Z',\n",
       "  'goals': {'away': 0, 'home': 0}},\n",
       " 'coordinates': {}}"
      ]
     },
     "execution_count": 56,
     "metadata": {},
     "output_type": "execute_result"
    }
   ],
   "source": [
    "sample['liveData']['plays']['allPlays'][0]"
   ]
  },
  {
   "cell_type": "code",
   "execution_count": 62,
   "id": "4e7af2de",
   "metadata": {},
   "outputs": [],
   "source": [
    "event_arr = sample['liveData']['plays']['allPlays']"
   ]
  },
  {
   "cell_type": "code",
   "execution_count": 66,
   "id": "b8aa5514",
   "metadata": {},
   "outputs": [],
   "source": [
    "def event_vis(event):\n",
    "    if event.get('coordinates') != {}:\n",
    "        plot_image(event.get('coordinates'),event['result']['description'])\n",
    "        plt.show()\n",
    "    print(json.dumps(event,indent=4))"
   ]
  },
  {
   "cell_type": "code",
   "execution_count": 67,
   "id": "34868cdb",
   "metadata": {},
   "outputs": [],
   "source": [
    "def game_vis(x):\n",
    "    # intlsider for changing the scroll\n",
    "    # HTML widget for the display for event data plus plot image(diff widget maybe)\n",
    "    event = event_arr[x]\n",
    "    event_vis(event)"
   ]
  },
  {
   "cell_type": "code",
   "execution_count": 93,
   "id": "c091cc40",
   "metadata": {
    "scrolled": false
   },
   "outputs": [
    {
     "data": {
      "application/vnd.jupyter.widget-view+json": {
       "model_id": "833c1b0c78b548f19c8758320248be55",
       "version_major": 2,
       "version_minor": 0
      },
      "text/plain": [
       "interactive(children=(IntSlider(value=10, description='x', max=331), Output()), _dom_classes=('widget-interact…"
      ]
     },
     "metadata": {},
     "output_type": "display_data"
    },
    {
     "data": {
      "text/plain": [
       "<function __main__.game_vis(x)>"
      ]
     },
     "execution_count": 93,
     "metadata": {},
     "output_type": "execute_result"
    }
   ],
   "source": [
    "widgets.interact(game_vis,x=widgets.IntSlider(min=0, max=len(event_arr), step=1, value=10))"
   ]
  },
  {
   "cell_type": "code",
   "execution_count": null,
   "id": "8238e776",
   "metadata": {},
   "outputs": [],
   "source": []
  }
 ],
 "metadata": {
  "kernelspec": {
   "display_name": "Python 3 (ipykernel)",
   "language": "python",
   "name": "python3"
  },
  "language_info": {
   "codemirror_mode": {
    "name": "ipython",
    "version": 3
   },
   "file_extension": ".py",
   "mimetype": "text/x-python",
   "name": "python",
   "nbconvert_exporter": "python",
   "pygments_lexer": "ipython3",
   "version": "3.10.6"
  }
 },
 "nbformat": 4,
 "nbformat_minor": 5
}
